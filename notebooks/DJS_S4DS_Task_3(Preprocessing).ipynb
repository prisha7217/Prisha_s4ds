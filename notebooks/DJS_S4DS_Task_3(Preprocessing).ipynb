{
 "cells": [
  {
   "cell_type": "code",
   "execution_count": 217,
   "id": "7ce1f0e4-2595-4266-a66a-af8151938f24",
   "metadata": {},
   "outputs": [],
   "source": [
    "import pandas as pd\n",
    "import numpy as np\n",
    "import seaborn as sns\n",
    "import matplotlib.pyplot as plt\n",
    "from datetime import datetime"
   ]
  },
  {
   "cell_type": "code",
   "execution_count": 400,
   "id": "5a5dc175-dabb-4659-aff1-91d8a5cedc8a",
   "metadata": {},
   "outputs": [],
   "source": [
    "df = pd.read_csv(r\"C:\\Desktop\\Datasets\\archive\\TASK3-TRAIN.csv\")"
   ]
  },
  {
   "cell_type": "code",
   "execution_count": 402,
   "id": "1655eae7-2623-4e66-98b2-525254cb994a",
   "metadata": {},
   "outputs": [
    {
     "data": {
      "text/html": [
       "<div>\n",
       "<style scoped>\n",
       "    .dataframe tbody tr th:only-of-type {\n",
       "        vertical-align: middle;\n",
       "    }\n",
       "\n",
       "    .dataframe tbody tr th {\n",
       "        vertical-align: top;\n",
       "    }\n",
       "\n",
       "    .dataframe thead th {\n",
       "        text-align: right;\n",
       "    }\n",
       "</style>\n",
       "<table border=\"1\" class=\"dataframe\">\n",
       "  <thead>\n",
       "    <tr style=\"text-align: right;\">\n",
       "      <th></th>\n",
       "      <th>policy_id</th>\n",
       "      <th>policy_tenure</th>\n",
       "      <th>age_of_car</th>\n",
       "      <th>age_of_policyholder</th>\n",
       "      <th>area_cluster</th>\n",
       "      <th>population_density</th>\n",
       "      <th>make</th>\n",
       "      <th>segment</th>\n",
       "      <th>model</th>\n",
       "      <th>fuel_type</th>\n",
       "      <th>...</th>\n",
       "      <th>is_brake_assist</th>\n",
       "      <th>is_power_door_locks</th>\n",
       "      <th>is_central_locking</th>\n",
       "      <th>is_power_steering</th>\n",
       "      <th>is_driver_seat_height_adjustable</th>\n",
       "      <th>is_day_night_rear_view_mirror</th>\n",
       "      <th>is_ecw</th>\n",
       "      <th>is_speed_alert</th>\n",
       "      <th>ncap_rating</th>\n",
       "      <th>is_claim</th>\n",
       "    </tr>\n",
       "  </thead>\n",
       "  <tbody>\n",
       "    <tr>\n",
       "      <th>0</th>\n",
       "      <td>ID00001</td>\n",
       "      <td>0.515874</td>\n",
       "      <td>0.05</td>\n",
       "      <td>0.644231</td>\n",
       "      <td>C1</td>\n",
       "      <td>4990</td>\n",
       "      <td>1</td>\n",
       "      <td>A</td>\n",
       "      <td>M1</td>\n",
       "      <td>CNG</td>\n",
       "      <td>...</td>\n",
       "      <td>No</td>\n",
       "      <td>No</td>\n",
       "      <td>No</td>\n",
       "      <td>Yes</td>\n",
       "      <td>No</td>\n",
       "      <td>No</td>\n",
       "      <td>No</td>\n",
       "      <td>Yes</td>\n",
       "      <td>0</td>\n",
       "      <td>0</td>\n",
       "    </tr>\n",
       "    <tr>\n",
       "      <th>1</th>\n",
       "      <td>ID00002</td>\n",
       "      <td>0.672619</td>\n",
       "      <td>0.02</td>\n",
       "      <td>0.375000</td>\n",
       "      <td>C2</td>\n",
       "      <td>27003</td>\n",
       "      <td>1</td>\n",
       "      <td>A</td>\n",
       "      <td>M1</td>\n",
       "      <td>CNG</td>\n",
       "      <td>...</td>\n",
       "      <td>No</td>\n",
       "      <td>No</td>\n",
       "      <td>No</td>\n",
       "      <td>Yes</td>\n",
       "      <td>No</td>\n",
       "      <td>No</td>\n",
       "      <td>No</td>\n",
       "      <td>Yes</td>\n",
       "      <td>0</td>\n",
       "      <td>0</td>\n",
       "    </tr>\n",
       "    <tr>\n",
       "      <th>2</th>\n",
       "      <td>ID00003</td>\n",
       "      <td>0.841110</td>\n",
       "      <td>0.02</td>\n",
       "      <td>0.384615</td>\n",
       "      <td>C3</td>\n",
       "      <td>4076</td>\n",
       "      <td>1</td>\n",
       "      <td>A</td>\n",
       "      <td>M1</td>\n",
       "      <td>CNG</td>\n",
       "      <td>...</td>\n",
       "      <td>No</td>\n",
       "      <td>No</td>\n",
       "      <td>No</td>\n",
       "      <td>Yes</td>\n",
       "      <td>No</td>\n",
       "      <td>No</td>\n",
       "      <td>No</td>\n",
       "      <td>Yes</td>\n",
       "      <td>0</td>\n",
       "      <td>0</td>\n",
       "    </tr>\n",
       "    <tr>\n",
       "      <th>3</th>\n",
       "      <td>ID00004</td>\n",
       "      <td>0.900277</td>\n",
       "      <td>0.11</td>\n",
       "      <td>0.432692</td>\n",
       "      <td>C4</td>\n",
       "      <td>21622</td>\n",
       "      <td>1</td>\n",
       "      <td>C1</td>\n",
       "      <td>M2</td>\n",
       "      <td>Petrol</td>\n",
       "      <td>...</td>\n",
       "      <td>Yes</td>\n",
       "      <td>Yes</td>\n",
       "      <td>Yes</td>\n",
       "      <td>Yes</td>\n",
       "      <td>Yes</td>\n",
       "      <td>Yes</td>\n",
       "      <td>Yes</td>\n",
       "      <td>Yes</td>\n",
       "      <td>2</td>\n",
       "      <td>0</td>\n",
       "    </tr>\n",
       "    <tr>\n",
       "      <th>4</th>\n",
       "      <td>ID00005</td>\n",
       "      <td>0.596403</td>\n",
       "      <td>0.11</td>\n",
       "      <td>0.634615</td>\n",
       "      <td>C5</td>\n",
       "      <td>34738</td>\n",
       "      <td>2</td>\n",
       "      <td>A</td>\n",
       "      <td>M3</td>\n",
       "      <td>Petrol</td>\n",
       "      <td>...</td>\n",
       "      <td>No</td>\n",
       "      <td>Yes</td>\n",
       "      <td>Yes</td>\n",
       "      <td>Yes</td>\n",
       "      <td>No</td>\n",
       "      <td>Yes</td>\n",
       "      <td>Yes</td>\n",
       "      <td>Yes</td>\n",
       "      <td>2</td>\n",
       "      <td>0</td>\n",
       "    </tr>\n",
       "  </tbody>\n",
       "</table>\n",
       "<p>5 rows × 44 columns</p>\n",
       "</div>"
      ],
      "text/plain": [
       "  policy_id  policy_tenure  age_of_car  age_of_policyholder area_cluster  \\\n",
       "0   ID00001       0.515874        0.05             0.644231           C1   \n",
       "1   ID00002       0.672619        0.02             0.375000           C2   \n",
       "2   ID00003       0.841110        0.02             0.384615           C3   \n",
       "3   ID00004       0.900277        0.11             0.432692           C4   \n",
       "4   ID00005       0.596403        0.11             0.634615           C5   \n",
       "\n",
       "   population_density  make segment model fuel_type  ... is_brake_assist  \\\n",
       "0                4990     1       A    M1       CNG  ...              No   \n",
       "1               27003     1       A    M1       CNG  ...              No   \n",
       "2                4076     1       A    M1       CNG  ...              No   \n",
       "3               21622     1      C1    M2    Petrol  ...             Yes   \n",
       "4               34738     2       A    M3    Petrol  ...              No   \n",
       "\n",
       "  is_power_door_locks is_central_locking  is_power_steering  \\\n",
       "0                  No                 No                Yes   \n",
       "1                  No                 No                Yes   \n",
       "2                  No                 No                Yes   \n",
       "3                 Yes                Yes                Yes   \n",
       "4                 Yes                Yes                Yes   \n",
       "\n",
       "  is_driver_seat_height_adjustable is_day_night_rear_view_mirror is_ecw  \\\n",
       "0                               No                            No     No   \n",
       "1                               No                            No     No   \n",
       "2                               No                            No     No   \n",
       "3                              Yes                           Yes    Yes   \n",
       "4                               No                           Yes    Yes   \n",
       "\n",
       "  is_speed_alert ncap_rating is_claim  \n",
       "0            Yes           0        0  \n",
       "1            Yes           0        0  \n",
       "2            Yes           0        0  \n",
       "3            Yes           2        0  \n",
       "4            Yes           2        0  \n",
       "\n",
       "[5 rows x 44 columns]"
      ]
     },
     "execution_count": 402,
     "metadata": {},
     "output_type": "execute_result"
    }
   ],
   "source": [
    "df.head()"
   ]
  },
  {
   "cell_type": "code",
   "execution_count": 404,
   "id": "a5be2982-49e7-4e89-b4ed-841d691e962a",
   "metadata": {},
   "outputs": [
    {
     "data": {
      "text/plain": [
       "Index(['policy_id', 'policy_tenure', 'age_of_car', 'age_of_policyholder',\n",
       "       'area_cluster', 'population_density', 'make', 'segment', 'model',\n",
       "       'fuel_type', 'max_torque', 'max_power', 'engine_type', 'airbags',\n",
       "       'is_esc', 'is_adjustable_steering', 'is_tpms', 'is_parking_sensors',\n",
       "       'is_parking_camera', 'rear_brakes_type', 'displacement', 'cylinder',\n",
       "       'transmission_type', 'gear_box', 'steering_type', 'turning_radius',\n",
       "       'length', 'width', 'height', 'gross_weight', 'is_front_fog_lights',\n",
       "       'is_rear_window_wiper', 'is_rear_window_washer',\n",
       "       'is_rear_window_defogger', 'is_brake_assist', 'is_power_door_locks',\n",
       "       'is_central_locking', 'is_power_steering',\n",
       "       'is_driver_seat_height_adjustable', 'is_day_night_rear_view_mirror',\n",
       "       'is_ecw', 'is_speed_alert', 'ncap_rating', 'is_claim'],\n",
       "      dtype='object')"
      ]
     },
     "execution_count": 404,
     "metadata": {},
     "output_type": "execute_result"
    }
   ],
   "source": [
    "df.columns"
   ]
  },
  {
   "cell_type": "code",
   "execution_count": 406,
   "id": "614efd9b-0ccb-442d-b049-719c06a159b2",
   "metadata": {},
   "outputs": [
    {
     "data": {
      "text/plain": [
       "0"
      ]
     },
     "execution_count": 406,
     "metadata": {},
     "output_type": "execute_result"
    }
   ],
   "source": [
    "df.duplicated().sum()"
   ]
  },
  {
   "cell_type": "code",
   "execution_count": 408,
   "id": "753e21b8-aa93-4799-ad34-49696aa51729",
   "metadata": {},
   "outputs": [
    {
     "data": {
      "text/plain": [
       "policy_id                           0\n",
       "policy_tenure                       0\n",
       "age_of_car                          0\n",
       "age_of_policyholder                 0\n",
       "area_cluster                        0\n",
       "population_density                  0\n",
       "make                                0\n",
       "segment                             0\n",
       "model                               0\n",
       "fuel_type                           0\n",
       "max_torque                          0\n",
       "max_power                           0\n",
       "engine_type                         0\n",
       "airbags                             0\n",
       "is_esc                              0\n",
       "is_adjustable_steering              0\n",
       "is_tpms                             0\n",
       "is_parking_sensors                  0\n",
       "is_parking_camera                   0\n",
       "rear_brakes_type                    0\n",
       "displacement                        0\n",
       "cylinder                            0\n",
       "transmission_type                   0\n",
       "gear_box                            0\n",
       "steering_type                       0\n",
       "turning_radius                      0\n",
       "length                              0\n",
       "width                               0\n",
       "height                              0\n",
       "gross_weight                        0\n",
       "is_front_fog_lights                 0\n",
       "is_rear_window_wiper                0\n",
       "is_rear_window_washer               0\n",
       "is_rear_window_defogger             0\n",
       "is_brake_assist                     0\n",
       "is_power_door_locks                 0\n",
       "is_central_locking                  0\n",
       "is_power_steering                   0\n",
       "is_driver_seat_height_adjustable    0\n",
       "is_day_night_rear_view_mirror       0\n",
       "is_ecw                              0\n",
       "is_speed_alert                      0\n",
       "ncap_rating                         0\n",
       "is_claim                            0\n",
       "dtype: int64"
      ]
     },
     "execution_count": 408,
     "metadata": {},
     "output_type": "execute_result"
    }
   ],
   "source": [
    "df.isna().sum()"
   ]
  },
  {
   "cell_type": "code",
   "execution_count": 410,
   "id": "b76db040-1352-4036-8912-f7be1044a01c",
   "metadata": {},
   "outputs": [
    {
     "name": "stdout",
     "output_type": "stream",
     "text": [
      "<class 'pandas.core.frame.DataFrame'>\n",
      "RangeIndex: 58592 entries, 0 to 58591\n",
      "Data columns (total 44 columns):\n",
      " #   Column                            Non-Null Count  Dtype  \n",
      "---  ------                            --------------  -----  \n",
      " 0   policy_id                         58592 non-null  object \n",
      " 1   policy_tenure                     58592 non-null  float64\n",
      " 2   age_of_car                        58592 non-null  float64\n",
      " 3   age_of_policyholder               58592 non-null  float64\n",
      " 4   area_cluster                      58592 non-null  object \n",
      " 5   population_density                58592 non-null  int64  \n",
      " 6   make                              58592 non-null  int64  \n",
      " 7   segment                           58592 non-null  object \n",
      " 8   model                             58592 non-null  object \n",
      " 9   fuel_type                         58592 non-null  object \n",
      " 10  max_torque                        58592 non-null  object \n",
      " 11  max_power                         58592 non-null  object \n",
      " 12  engine_type                       58592 non-null  object \n",
      " 13  airbags                           58592 non-null  int64  \n",
      " 14  is_esc                            58592 non-null  object \n",
      " 15  is_adjustable_steering            58592 non-null  object \n",
      " 16  is_tpms                           58592 non-null  object \n",
      " 17  is_parking_sensors                58592 non-null  object \n",
      " 18  is_parking_camera                 58592 non-null  object \n",
      " 19  rear_brakes_type                  58592 non-null  object \n",
      " 20  displacement                      58592 non-null  int64  \n",
      " 21  cylinder                          58592 non-null  int64  \n",
      " 22  transmission_type                 58592 non-null  object \n",
      " 23  gear_box                          58592 non-null  int64  \n",
      " 24  steering_type                     58592 non-null  object \n",
      " 25  turning_radius                    58592 non-null  float64\n",
      " 26  length                            58592 non-null  int64  \n",
      " 27  width                             58592 non-null  int64  \n",
      " 28  height                            58592 non-null  int64  \n",
      " 29  gross_weight                      58592 non-null  int64  \n",
      " 30  is_front_fog_lights               58592 non-null  object \n",
      " 31  is_rear_window_wiper              58592 non-null  object \n",
      " 32  is_rear_window_washer             58592 non-null  object \n",
      " 33  is_rear_window_defogger           58592 non-null  object \n",
      " 34  is_brake_assist                   58592 non-null  object \n",
      " 35  is_power_door_locks               58592 non-null  object \n",
      " 36  is_central_locking                58592 non-null  object \n",
      " 37  is_power_steering                 58592 non-null  object \n",
      " 38  is_driver_seat_height_adjustable  58592 non-null  object \n",
      " 39  is_day_night_rear_view_mirror     58592 non-null  object \n",
      " 40  is_ecw                            58592 non-null  object \n",
      " 41  is_speed_alert                    58592 non-null  object \n",
      " 42  ncap_rating                       58592 non-null  int64  \n",
      " 43  is_claim                          58592 non-null  int64  \n",
      "dtypes: float64(4), int64(12), object(28)\n",
      "memory usage: 19.7+ MB\n"
     ]
    }
   ],
   "source": [
    "df.info()"
   ]
  },
  {
   "cell_type": "code",
   "execution_count": 412,
   "id": "9f441b2c-5530-47a7-aa0b-cbffa2cfc246",
   "metadata": {},
   "outputs": [],
   "source": [
    "columns_to_replace = df.columns[14:19]\n",
    "columns_to_replace = columns_to_replace.append(df.columns[30:42])\n",
    "for column in columns_to_replace:\n",
    "    df[column] = df[column].map({'Yes': True, 'No': False})"
   ]
  },
  {
   "cell_type": "code",
   "execution_count": 414,
   "id": "10b19b18-0480-43ee-b14b-08b2b6778d1a",
   "metadata": {},
   "outputs": [],
   "source": [
    "df.drop(columns='policy_id', inplace=True)"
   ]
  },
  {
   "cell_type": "code",
   "execution_count": 416,
   "id": "2509266c-09ed-42d6-9ca8-5417ac5503f1",
   "metadata": {},
   "outputs": [
    {
     "data": {
      "text/plain": [
       "array(['C1', 'C2', 'C3', 'C4', 'C5', 'C6', 'C7', 'C8', 'C9', 'C10', 'C11',\n",
       "       'C12', 'C13', 'C14', 'C15', 'C16', 'C17', 'C18', 'C19', 'C20',\n",
       "       'C21', 'C22'], dtype=object)"
      ]
     },
     "execution_count": 416,
     "metadata": {},
     "output_type": "execute_result"
    }
   ],
   "source": [
    "df['area_cluster'].unique()"
   ]
  },
  {
   "cell_type": "code",
   "execution_count": 417,
   "id": "129cb460-95ce-4a25-a9e4-4b43df596b5a",
   "metadata": {},
   "outputs": [],
   "source": [
    "ae_mapping = {'C1':1, 'C2':2, 'C3':3, 'C4':4, 'C5':5, 'C6':6, 'C7':7, 'C8':8, 'C9':9, 'C10':10, 'C11':11, 'C12':12, 'C13':13, 'C14':14, 'C15':15, 'C16':16, 'C17':17, 'C18':18, 'C19':19, 'C20':20, 'C21':21, 'C22':22}\n",
    "df['area_cluster'] = df['area_cluster'].map(ae_mapping)"
   ]
  },
  {
   "cell_type": "code",
   "execution_count": 420,
   "id": "35df181e-a041-4750-9aff-669b770eaae7",
   "metadata": {},
   "outputs": [
    {
     "data": {
      "text/plain": [
       "array(['M1', 'M2', 'M3', 'M4', 'M5', 'M6', 'M7', 'M8', 'M9', 'M10', 'M11'],\n",
       "      dtype=object)"
      ]
     },
     "execution_count": 420,
     "metadata": {},
     "output_type": "execute_result"
    }
   ],
   "source": [
    "df['model'].unique()"
   ]
  },
  {
   "cell_type": "code",
   "execution_count": 422,
   "id": "2115aa96-2d19-486c-9859-31408cbb99fe",
   "metadata": {},
   "outputs": [],
   "source": [
    "model_mapping = {'M1':1, 'M2':2, 'M3':3, 'M4':4, 'M5':5, 'M6':6, 'M7':7, 'M8':8, 'M9':9, 'M10':10, 'M11':11}\n",
    "df['model'] = df['model'].map(model_mapping)"
   ]
  },
  {
   "cell_type": "code",
   "execution_count": 424,
   "id": "8f4a7d50-75b2-4366-a075-d16acb430ae1",
   "metadata": {},
   "outputs": [],
   "source": [
    "from sklearn.preprocessing import LabelEncoder"
   ]
  },
  {
   "cell_type": "code",
   "execution_count": 426,
   "id": "3bf7ee7e-efac-4f8d-967f-85ca5441bda7",
   "metadata": {},
   "outputs": [],
   "source": [
    "seg_enc = LabelEncoder()\n",
    "df['segment'] = seg_enc.fit_transform(df['segment'])\n",
    "\n",
    "eng_enc = LabelEncoder()\n",
    "df['engine_type'] = eng_enc.fit_transform(df['engine_type'])"
   ]
  },
  {
   "cell_type": "code",
   "execution_count": 428,
   "id": "fa0e2df1-2995-4b47-b2a9-b561a6c278a4",
   "metadata": {},
   "outputs": [
    {
     "name": "stdout",
     "output_type": "stream",
     "text": [
      "Segment Mapping: {'A': 0, 'B1': 1, 'B2': 2, 'C1': 3, 'C2': 4, 'Utility': 5}\n",
      "Engine Type Mapping: {'1.0 SCe': 0, '1.2 L K Series Engine': 1, '1.2 L K12N Dualjet': 2, '1.5 L U2 CRDi': 3, '1.5 Turbocharged Revotorq': 4, '1.5 Turbocharged Revotron': 5, 'F8D Petrol Engine': 6, 'G12B': 7, 'K Series Dual jet': 8, 'K10C': 9, 'i-DTEC': 10}\n"
     ]
    }
   ],
   "source": [
    "seg_mapping = dict(zip(seg_enc.classes_, seg_enc.transform(seg_enc.classes_)))\n",
    "eng_mapping = dict(zip(eng_enc.classes_, eng_enc.transform(eng_enc.classes_)))\n",
    "\n",
    "print(f\"Segment Mapping: {seg_mapping}\")\n",
    "print(f\"Engine Type Mapping: {eng_mapping}\")"
   ]
  },
  {
   "cell_type": "code",
   "execution_count": 430,
   "id": "2bb56c64-397c-47da-966f-c97911b3be3c",
   "metadata": {},
   "outputs": [],
   "source": [
    "nominal = ['fuel_type', 'steering_type', 'transmission_type', 'rear_brakes_type']\n",
    "df = pd.get_dummies(df, columns=nominal)"
   ]
  },
  {
   "cell_type": "code",
   "execution_count": 432,
   "id": "8ec89fb4-40bb-44b4-8f49-9a09b0d6f295",
   "metadata": {},
   "outputs": [],
   "source": [
    "df['max_torque'] = df['max_torque'].str.split(\"Nm@\")"
   ]
  },
  {
   "cell_type": "code",
   "execution_count": 434,
   "id": "dbf263b6-19db-49d1-806b-23eda4efff43",
   "metadata": {},
   "outputs": [],
   "source": [
    "df['torque'] = df['max_torque'].str[0].astype(float)\n",
    "df['torque_rpm'] = df['max_torque'].str[1].str.replace('rpm', '').astype(float)"
   ]
  },
  {
   "cell_type": "code",
   "execution_count": 436,
   "id": "9ca2bb1a-bb44-48c1-bdd3-ff109474cbbc",
   "metadata": {},
   "outputs": [],
   "source": [
    "df.drop(columns='max_torque', inplace=True)"
   ]
  },
  {
   "cell_type": "code",
   "execution_count": 438,
   "id": "ed1380fa-f969-44fa-92f7-1a0256e5d520",
   "metadata": {},
   "outputs": [],
   "source": [
    "df['max_power'] = df['max_power'].str.split(\"bhp@\")"
   ]
  },
  {
   "cell_type": "code",
   "execution_count": 439,
   "id": "ce3fafe6-07f8-487b-9ce1-6bda9d3ee7e9",
   "metadata": {},
   "outputs": [],
   "source": [
    "df['power'] = df['max_power'].str[0].astype(float)\n",
    "df['power_rpm'] = df['max_power'].str[1].str.replace('rpm', '').astype(float)"
   ]
  },
  {
   "cell_type": "code",
   "execution_count": 442,
   "id": "d7f82de6-f523-4fa2-9534-528bcccac936",
   "metadata": {},
   "outputs": [],
   "source": [
    "df.drop(columns='max_power', inplace=True)"
   ]
  },
  {
   "cell_type": "code",
   "execution_count": 444,
   "id": "60f80db0-7288-4513-a9b0-2411abbc8943",
   "metadata": {},
   "outputs": [
    {
     "name": "stdout",
     "output_type": "stream",
     "text": [
      "<class 'pandas.core.frame.DataFrame'>\n",
      "RangeIndex: 58592 entries, 0 to 58591\n",
      "Data columns (total 51 columns):\n",
      " #   Column                            Non-Null Count  Dtype  \n",
      "---  ------                            --------------  -----  \n",
      " 0   policy_tenure                     58592 non-null  float64\n",
      " 1   age_of_car                        58592 non-null  float64\n",
      " 2   age_of_policyholder               58592 non-null  float64\n",
      " 3   area_cluster                      58592 non-null  int64  \n",
      " 4   population_density                58592 non-null  int64  \n",
      " 5   make                              58592 non-null  int64  \n",
      " 6   segment                           58592 non-null  int32  \n",
      " 7   model                             58592 non-null  int64  \n",
      " 8   engine_type                       58592 non-null  int32  \n",
      " 9   airbags                           58592 non-null  int64  \n",
      " 10  is_esc                            58592 non-null  bool   \n",
      " 11  is_adjustable_steering            58592 non-null  bool   \n",
      " 12  is_tpms                           58592 non-null  bool   \n",
      " 13  is_parking_sensors                58592 non-null  bool   \n",
      " 14  is_parking_camera                 58592 non-null  bool   \n",
      " 15  displacement                      58592 non-null  int64  \n",
      " 16  cylinder                          58592 non-null  int64  \n",
      " 17  gear_box                          58592 non-null  int64  \n",
      " 18  turning_radius                    58592 non-null  float64\n",
      " 19  length                            58592 non-null  int64  \n",
      " 20  width                             58592 non-null  int64  \n",
      " 21  height                            58592 non-null  int64  \n",
      " 22  gross_weight                      58592 non-null  int64  \n",
      " 23  is_front_fog_lights               58592 non-null  bool   \n",
      " 24  is_rear_window_wiper              58592 non-null  bool   \n",
      " 25  is_rear_window_washer             58592 non-null  bool   \n",
      " 26  is_rear_window_defogger           58592 non-null  bool   \n",
      " 27  is_brake_assist                   58592 non-null  bool   \n",
      " 28  is_power_door_locks               58592 non-null  bool   \n",
      " 29  is_central_locking                58592 non-null  bool   \n",
      " 30  is_power_steering                 58592 non-null  bool   \n",
      " 31  is_driver_seat_height_adjustable  58592 non-null  bool   \n",
      " 32  is_day_night_rear_view_mirror     58592 non-null  bool   \n",
      " 33  is_ecw                            58592 non-null  bool   \n",
      " 34  is_speed_alert                    58592 non-null  bool   \n",
      " 35  ncap_rating                       58592 non-null  int64  \n",
      " 36  is_claim                          58592 non-null  int64  \n",
      " 37  fuel_type_CNG                     58592 non-null  bool   \n",
      " 38  fuel_type_Diesel                  58592 non-null  bool   \n",
      " 39  fuel_type_Petrol                  58592 non-null  bool   \n",
      " 40  steering_type_Electric            58592 non-null  bool   \n",
      " 41  steering_type_Manual              58592 non-null  bool   \n",
      " 42  steering_type_Power               58592 non-null  bool   \n",
      " 43  transmission_type_Automatic       58592 non-null  bool   \n",
      " 44  transmission_type_Manual          58592 non-null  bool   \n",
      " 45  rear_brakes_type_Disc             58592 non-null  bool   \n",
      " 46  rear_brakes_type_Drum             58592 non-null  bool   \n",
      " 47  torque                            58592 non-null  float64\n",
      " 48  torque_rpm                        58592 non-null  float64\n",
      " 49  power                             58592 non-null  float64\n",
      " 50  power_rpm                         58592 non-null  float64\n",
      "dtypes: bool(27), float64(8), int32(2), int64(14)\n",
      "memory usage: 11.8 MB\n"
     ]
    }
   ],
   "source": [
    "df.info()"
   ]
  },
  {
   "cell_type": "code",
   "execution_count": 446,
   "id": "90e46737-a930-4361-bf9c-ee2402f32989",
   "metadata": {},
   "outputs": [
    {
     "data": {
      "text/html": [
       "<div>\n",
       "<style scoped>\n",
       "    .dataframe tbody tr th:only-of-type {\n",
       "        vertical-align: middle;\n",
       "    }\n",
       "\n",
       "    .dataframe tbody tr th {\n",
       "        vertical-align: top;\n",
       "    }\n",
       "\n",
       "    .dataframe thead th {\n",
       "        text-align: right;\n",
       "    }\n",
       "</style>\n",
       "<table border=\"1\" class=\"dataframe\">\n",
       "  <thead>\n",
       "    <tr style=\"text-align: right;\">\n",
       "      <th></th>\n",
       "      <th>policy_tenure</th>\n",
       "      <th>age_of_car</th>\n",
       "      <th>age_of_policyholder</th>\n",
       "      <th>area_cluster</th>\n",
       "      <th>population_density</th>\n",
       "      <th>make</th>\n",
       "      <th>segment</th>\n",
       "      <th>model</th>\n",
       "      <th>engine_type</th>\n",
       "      <th>airbags</th>\n",
       "      <th>...</th>\n",
       "      <th>steering_type_Manual</th>\n",
       "      <th>steering_type_Power</th>\n",
       "      <th>transmission_type_Automatic</th>\n",
       "      <th>transmission_type_Manual</th>\n",
       "      <th>rear_brakes_type_Disc</th>\n",
       "      <th>rear_brakes_type_Drum</th>\n",
       "      <th>torque</th>\n",
       "      <th>torque_rpm</th>\n",
       "      <th>power</th>\n",
       "      <th>power_rpm</th>\n",
       "    </tr>\n",
       "  </thead>\n",
       "  <tbody>\n",
       "    <tr>\n",
       "      <th>0</th>\n",
       "      <td>0.515874</td>\n",
       "      <td>0.05</td>\n",
       "      <td>0.644231</td>\n",
       "      <td>1</td>\n",
       "      <td>4990</td>\n",
       "      <td>1</td>\n",
       "      <td>0</td>\n",
       "      <td>1</td>\n",
       "      <td>6</td>\n",
       "      <td>2</td>\n",
       "      <td>...</td>\n",
       "      <td>False</td>\n",
       "      <td>True</td>\n",
       "      <td>False</td>\n",
       "      <td>True</td>\n",
       "      <td>False</td>\n",
       "      <td>True</td>\n",
       "      <td>60.0</td>\n",
       "      <td>3500.0</td>\n",
       "      <td>40.36</td>\n",
       "      <td>6000.0</td>\n",
       "    </tr>\n",
       "    <tr>\n",
       "      <th>1</th>\n",
       "      <td>0.672619</td>\n",
       "      <td>0.02</td>\n",
       "      <td>0.375000</td>\n",
       "      <td>2</td>\n",
       "      <td>27003</td>\n",
       "      <td>1</td>\n",
       "      <td>0</td>\n",
       "      <td>1</td>\n",
       "      <td>6</td>\n",
       "      <td>2</td>\n",
       "      <td>...</td>\n",
       "      <td>False</td>\n",
       "      <td>True</td>\n",
       "      <td>False</td>\n",
       "      <td>True</td>\n",
       "      <td>False</td>\n",
       "      <td>True</td>\n",
       "      <td>60.0</td>\n",
       "      <td>3500.0</td>\n",
       "      <td>40.36</td>\n",
       "      <td>6000.0</td>\n",
       "    </tr>\n",
       "    <tr>\n",
       "      <th>2</th>\n",
       "      <td>0.841110</td>\n",
       "      <td>0.02</td>\n",
       "      <td>0.384615</td>\n",
       "      <td>3</td>\n",
       "      <td>4076</td>\n",
       "      <td>1</td>\n",
       "      <td>0</td>\n",
       "      <td>1</td>\n",
       "      <td>6</td>\n",
       "      <td>2</td>\n",
       "      <td>...</td>\n",
       "      <td>False</td>\n",
       "      <td>True</td>\n",
       "      <td>False</td>\n",
       "      <td>True</td>\n",
       "      <td>False</td>\n",
       "      <td>True</td>\n",
       "      <td>60.0</td>\n",
       "      <td>3500.0</td>\n",
       "      <td>40.36</td>\n",
       "      <td>6000.0</td>\n",
       "    </tr>\n",
       "    <tr>\n",
       "      <th>3</th>\n",
       "      <td>0.900277</td>\n",
       "      <td>0.11</td>\n",
       "      <td>0.432692</td>\n",
       "      <td>4</td>\n",
       "      <td>21622</td>\n",
       "      <td>1</td>\n",
       "      <td>3</td>\n",
       "      <td>2</td>\n",
       "      <td>2</td>\n",
       "      <td>2</td>\n",
       "      <td>...</td>\n",
       "      <td>False</td>\n",
       "      <td>False</td>\n",
       "      <td>True</td>\n",
       "      <td>False</td>\n",
       "      <td>False</td>\n",
       "      <td>True</td>\n",
       "      <td>113.0</td>\n",
       "      <td>4400.0</td>\n",
       "      <td>88.50</td>\n",
       "      <td>6000.0</td>\n",
       "    </tr>\n",
       "    <tr>\n",
       "      <th>4</th>\n",
       "      <td>0.596403</td>\n",
       "      <td>0.11</td>\n",
       "      <td>0.634615</td>\n",
       "      <td>5</td>\n",
       "      <td>34738</td>\n",
       "      <td>2</td>\n",
       "      <td>0</td>\n",
       "      <td>3</td>\n",
       "      <td>0</td>\n",
       "      <td>2</td>\n",
       "      <td>...</td>\n",
       "      <td>False</td>\n",
       "      <td>False</td>\n",
       "      <td>True</td>\n",
       "      <td>False</td>\n",
       "      <td>False</td>\n",
       "      <td>True</td>\n",
       "      <td>91.0</td>\n",
       "      <td>4250.0</td>\n",
       "      <td>67.06</td>\n",
       "      <td>5500.0</td>\n",
       "    </tr>\n",
       "  </tbody>\n",
       "</table>\n",
       "<p>5 rows × 51 columns</p>\n",
       "</div>"
      ],
      "text/plain": [
       "   policy_tenure  age_of_car  age_of_policyholder  area_cluster  \\\n",
       "0       0.515874        0.05             0.644231             1   \n",
       "1       0.672619        0.02             0.375000             2   \n",
       "2       0.841110        0.02             0.384615             3   \n",
       "3       0.900277        0.11             0.432692             4   \n",
       "4       0.596403        0.11             0.634615             5   \n",
       "\n",
       "   population_density  make  segment  model  engine_type  airbags  ...  \\\n",
       "0                4990     1        0      1            6        2  ...   \n",
       "1               27003     1        0      1            6        2  ...   \n",
       "2                4076     1        0      1            6        2  ...   \n",
       "3               21622     1        3      2            2        2  ...   \n",
       "4               34738     2        0      3            0        2  ...   \n",
       "\n",
       "   steering_type_Manual  steering_type_Power  transmission_type_Automatic  \\\n",
       "0                 False                 True                        False   \n",
       "1                 False                 True                        False   \n",
       "2                 False                 True                        False   \n",
       "3                 False                False                         True   \n",
       "4                 False                False                         True   \n",
       "\n",
       "   transmission_type_Manual  rear_brakes_type_Disc  rear_brakes_type_Drum  \\\n",
       "0                      True                  False                   True   \n",
       "1                      True                  False                   True   \n",
       "2                      True                  False                   True   \n",
       "3                     False                  False                   True   \n",
       "4                     False                  False                   True   \n",
       "\n",
       "   torque  torque_rpm  power  power_rpm  \n",
       "0    60.0      3500.0  40.36     6000.0  \n",
       "1    60.0      3500.0  40.36     6000.0  \n",
       "2    60.0      3500.0  40.36     6000.0  \n",
       "3   113.0      4400.0  88.50     6000.0  \n",
       "4    91.0      4250.0  67.06     5500.0  \n",
       "\n",
       "[5 rows x 51 columns]"
      ]
     },
     "execution_count": 446,
     "metadata": {},
     "output_type": "execute_result"
    }
   ],
   "source": [
    "df.head()"
   ]
  },
  {
   "cell_type": "code",
   "execution_count": 448,
   "id": "0c42b140-00fd-4788-87ae-00bee1de63b1",
   "metadata": {},
   "outputs": [],
   "source": [
    "df.to_csv(r'C:\\Desktop\\Datasets\\archive\\claim_train_data.csv')"
   ]
  }
 ],
 "metadata": {
  "kernelspec": {
   "display_name": "Python 3 (ipykernel)",
   "language": "python",
   "name": "python3"
  },
  "language_info": {
   "codemirror_mode": {
    "name": "ipython",
    "version": 3
   },
   "file_extension": ".py",
   "mimetype": "text/x-python",
   "name": "python",
   "nbconvert_exporter": "python",
   "pygments_lexer": "ipython3",
   "version": "3.11.7"
  }
 },
 "nbformat": 4,
 "nbformat_minor": 5
}
